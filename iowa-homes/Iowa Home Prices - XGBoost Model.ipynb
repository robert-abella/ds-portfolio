{
 "cells": [
  {
   "cell_type": "markdown",
   "metadata": {},
   "source": [
    "**XGBoost**\n",
    "- leading model for working with standard tabular data (ex. Pandas DataFrames)\n",
    "- require more knowledge and model tuning to reach peak accuracy\n",
    "- implementation of the Gradient Boosted Decision Trees algorithm\n",
    "\n",
    "**Gradient Boosted Decision Trees Algorithm**\n",
    "-  go through cycles that repeatedly builds new models and combines them into an ensemble model. \n",
    "\n",
    "[Install XGBoost](https://anaconda.org/anaconda/py-xgboost) - conda install -c anaconda py-xgboost (for Windows)\n",
    "\n",
    "Note: Research more about XGBoost"
   ]
  },
  {
   "cell_type": "code",
   "execution_count": 1,
   "metadata": {},
   "outputs": [],
   "source": [
    "# Import libraries: pandas, scikit-learn, xgboost\n",
    "import pandas as pd\n",
    "import numpy as np\n",
    "from sklearn.model_selection import train_test_split\n",
    "from sklearn.impute import SimpleImputer\n",
    "from sklearn.metrics import mean_absolute_error\n",
    "from sklearn.pipeline import make_pipeline\n",
    "from sklearn.model_selection import cross_val_score\n",
    "from sklearn.ensemble import GradientBoostingRegressor\n",
    "from sklearn.ensemble.partial_dependence import partial_dependence, plot_partial_dependence\n",
    "from sklearn.pipeline import Pipeline\n",
    "#from sklearn.model_selection import GridSearchCV\n",
    "\n",
    "import xgboost as xgb\n",
    "#from xgboost import XGBRegressor\n",
    "#from xgboost import DMatrix"
   ]
  },
  {
   "cell_type": "code",
   "execution_count": 2,
   "metadata": {},
   "outputs": [],
   "source": [
    "# Dataset: Home prices in iowa\n",
    "iowa_file_path = \"./data/iowa_home_filtered.csv\"\n",
    "\n",
    "# Read filtered csv file. Remove index in first column index_col=0\n",
    "iowa_data = pd.read_csv(iowa_file_path, index_col=0)"
   ]
  },
  {
   "cell_type": "code",
   "execution_count": 3,
   "metadata": {},
   "outputs": [],
   "source": [
    "# Select features and target\n",
    "y = iowa_data.SalePrice\n",
    "X = iowa_data.drop(['SalePrice'], axis=1).select_dtypes(exclude=['object'])\n",
    "\n",
    "# For cross-validation from xgboost (We'll check scikit-learn cross val for now)\n",
    "# data_dmatrix = xgb.DMatrix(data=X,label=y)"
   ]
  },
  {
   "cell_type": "code",
   "execution_count": 4,
   "metadata": {},
   "outputs": [],
   "source": [
    "# Split data to training and validation data\n",
    "X_train, X_test, y_train, y_test = train_test_split(X, y,\n",
    "                                                    train_size=0.7, \n",
    "                                                    test_size=0.3, \n",
    "                                                    random_state=0)"
   ]
  },
  {
   "cell_type": "markdown",
   "metadata": {},
   "source": [
    "**Pipelines**\n",
    "\n",
    "*Overview:* Pipelines are used to make our codes organized. It bundles our data processing and modeling steps into a single one.\n",
    "\n",
    "Note that we remove the transformer *SimpleImputer* because we already handled missing values."
   ]
  },
  {
   "cell_type": "code",
   "execution_count": 5,
   "metadata": {},
   "outputs": [],
   "source": [
    "# Create pipeline\n",
    "#xgb_pipeline = make_pipeline(SimpleImputer(), XGBRegressor(n_estimators=1000, learning_rate=0.05))\n",
    "\n",
    "# New way to create pipeline\n",
    "#xgb_pipeline = Pipeline([('imputer', SimpleImputer()), \n",
    "#                         ('xgbrg', XGBRegressor(n_estimators=1000, learning_rate=0.05))])\n",
    "\n",
    "xgb_pipeline = Pipeline([('xgbrg', xgb.XGBRegressor(n_estimators=1000, learning_rate=0.05))])"
   ]
  },
  {
   "cell_type": "markdown",
   "metadata": {},
   "source": [
    "**Model Tuning for XGBRegressor**\n",
    "\n",
    "Parameters that can dramatically affect your model's accuracy and training speed:\n",
    "1. n_estimators - specifies how many times to go through the modeling cycle\n",
    "2. early_stopping_rounds - offers a way to automatically find the ideal value\n",
    "3. learning_rate - instead of getting predictions by simply adding up the predictions from each component model, we will multiply the predictions from each model by a small number before adding them in. This means each tree we add to the ensemble helps us less. In practice, this reduces the model's propensity to overfit.\n",
    "4. n_jobs - On larger datasets where runtime is a consideration, you can use parallelism to build your models faster. It's common to set the parameter n_jobs equal to the number of cores on your machine.\n",
    "\n",
    "There are other parameters but still need to research."
   ]
  },
  {
   "cell_type": "markdown",
   "metadata": {},
   "source": [
    "**Cross-validation**\n",
    "\n",
    "Cross-validation gives us a more reliable measure of model's quality compared to train_test_split on small datasets. It works by dividing our dataset into k-fold or k experiments of data to get k number of measures of model quality where k $\\ge$ 1."
   ]
  },
  {
   "cell_type": "code",
   "execution_count": 6,
   "metadata": {},
   "outputs": [
    {
     "name": "stdout",
     "output_type": "stream",
     "text": [
      "On average, our predictions are off by about $ 19209.63 by using XGBoost\n"
     ]
    }
   ],
   "source": [
    "# 5-fold cross-validation\n",
    "fit_params = {'xgbrg__verbose' : False,\n",
    "              'xgbrg__early_stopping_rounds' : 5,\n",
    "              'xgbrg__eval_set' :[(X_test.values, y_test)]\n",
    "             }\n",
    "\n",
    "scores = cross_val_score(xgb_pipeline, X_train.values, y_train, scoring='neg_mean_absolute_error', cv=5, fit_params=fit_params)\n",
    "print(\"On average, our predictions are off by about $ %.2f by using XGBoost\" %(-1 * scores.mean()))"
   ]
  },
  {
   "cell_type": "markdown",
   "metadata": {},
   "source": [
    "**Partial Dependence Plots**\n",
    "- show how each variable or predictor affects the model's predictions.\n",
    "- the partial dependence plot is calculated only after the model has been fit"
   ]
  },
  {
   "cell_type": "code",
   "execution_count": 9,
   "metadata": {},
   "outputs": [
    {
     "data": {
      "image/png": "[encoded data removed]",
      "text/plain": [
       "<Figure size 432x288 with 2 Axes>"
      ]
     },
     "metadata": {
      "needs_background": "light"
     },
     "output_type": "display_data"
    }
   ],
   "source": [
    "cols_to_use = ['LotArea', 'YearBuilt']\n",
    "X = X[cols_to_use]\n",
    "model = GradientBoostingRegressor()\n",
    "gbr_pipeline = make_pipeline(SimpleImputer(), model)\n",
    "gbr_pipeline.fit(X, y)\n",
    "my_plots = plot_partial_dependence(model, \n",
    "                                   features=[0,1], \n",
    "                                   X=X, \n",
    "                                   feature_names=cols_to_use, \n",
    "                                   grid_resolution=10)"
   ]
  },
  {
   "cell_type": "code",
   "execution_count": 8,
   "metadata": {},
   "outputs": [
    {
     "name": "stdout",
     "output_type": "stream",
     "text": [
      "Mean Absolute Error 36342.81\n"
     ]
    }
   ],
   "source": [
    "scores = cross_val_score(gbr_pipeline, X, y, scoring='neg_mean_absolute_error', cv=5)\n",
    "print('Mean Absolute Error %.2f' %(-1 * scores.mean()))"
   ]
  },
  {
   "cell_type": "markdown",
   "metadata": {},
   "source": [
    "#### Conclusion\n",
    "\n",
    "The XGBoostRegressor model didn't give us better results compared to RandomForest. More research is needed for determining best parameters to use and also we can go back to feature engineering."
   ]
  }
 ],
 "metadata": {
  "kernelspec": {
   "display_name": "Python 3",
   "language": "python",
   "name": "python3"
  },
  "language_info": {
   "codemirror_mode": {
    "name": "ipython",
    "version": 3
   },
   "file_extension": ".py",
   "mimetype": "text/x-python",
   "name": "python",
   "nbconvert_exporter": "python",
   "pygments_lexer": "ipython3",
   "version": "3.7.2"
  }
 },
 "nbformat": 4,
 "nbformat_minor": 2
}
